{
 "cells": [
  {
   "cell_type": "code",
   "execution_count": 7,
   "metadata": {},
   "outputs": [],
   "source": [
    "import pandas_datareader as pdr"
   ]
  },
  {
   "cell_type": "code",
   "execution_count": 8,
   "metadata": {},
   "outputs": [],
   "source": [
    "from pandas_datareader import data"
   ]
  },
  {
   "cell_type": "code",
   "execution_count": 14,
   "metadata": {},
   "outputs": [],
   "source": [
    "aapl = data.DataReader(\"KBANK.BK\", \n",
    "                       start='2018-1-1', \n",
    "  \n",
    "                       data_source='yahoo')"
   ]
  },
  {
   "cell_type": "code",
   "execution_count": 16,
   "metadata": {},
   "outputs": [
    {
     "data": {
      "text/plain": [
       "<bound method NDFrame.tail of               High     Low    Open   Close      Volume   Adj Close\n",
       "Date                                                              \n",
       "2018-01-03  237.00  233.00  234.00  237.00   6816400.0  217.086746\n",
       "2018-01-04  244.00  238.00  239.00  242.00   8123000.0  221.666641\n",
       "2018-01-05  244.00  240.00  242.00  241.00   6622100.0  220.750656\n",
       "2018-01-08  245.00  241.00  243.00  241.00   8454800.0  220.750656\n",
       "2018-01-09  240.00  234.00  240.00  235.00  13325700.0  215.254807\n",
       "...            ...     ...     ...     ...         ...         ...\n",
       "2020-08-03   83.00   80.00   80.50   82.25  18877700.0   82.250000\n",
       "2020-08-04   84.75   82.75   83.00   83.00  13091500.0   83.000000\n",
       "2020-08-05   84.25   82.50   84.00   83.00  13253200.0   83.000000\n",
       "2020-08-06   84.00   82.75   82.75   83.25   8996700.0   83.250000\n",
       "2020-08-07   83.75   82.75   83.25   83.00   6604800.0   83.000000\n",
       "\n",
       "[637 rows x 6 columns]>"
      ]
     },
     "execution_count": 16,
     "metadata": {},
     "output_type": "execute_result"
    }
   ],
   "source": [
    "aapl.tail"
   ]
  },
  {
   "cell_type": "code",
   "execution_count": null,
   "metadata": {},
   "outputs": [],
   "source": []
  }
 ],
 "metadata": {
  "kernelspec": {
   "display_name": "Python 3",
   "language": "python",
   "name": "python3"
  },
  "language_info": {
   "codemirror_mode": {
    "name": "ipython",
    "version": 3
   },
   "file_extension": ".py",
   "mimetype": "text/x-python",
   "name": "python",
   "nbconvert_exporter": "python",
   "pygments_lexer": "ipython3",
   "version": "3.8.4"
  }
 },
 "nbformat": 4,
 "nbformat_minor": 4
}
